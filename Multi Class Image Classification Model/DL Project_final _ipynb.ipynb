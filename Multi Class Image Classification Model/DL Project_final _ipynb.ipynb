{
 "cells": [
  {
   "cell_type": "code",
   "execution_count": 22,
   "metadata": {
    "colab": {
     "base_uri": "https://localhost:8080/",
     "height": 119
    },
    "colab_type": "code",
    "id": "pmNpq8GML1jW",
    "outputId": "a484d46c-58ab-418c-eb0c-da269907bbc4"
   },
   "outputs": [
    {
     "name": "stdout",
     "output_type": "stream",
     "text": [
      "2.1.0\n"
     ]
    }
   ],
   "source": [
    "# Install TensorFlow\n",
    "\n",
    "import tensorflow as tf\n",
    "print(tf.__version__)\n",
    "\n",
    "# additional imports\n",
    "import seaborn as sns\n",
    "import numpy as np\n",
    "import matplotlib.pyplot as plt\n",
    "%matplotlib inline\n",
    "from tensorflow.keras.layers import Dense, Conv2D, MaxPool2D, Flatten, BatchNormalization, Dropout\n",
    "from tensorflow.keras.models import Sequential"
   ]
  },
  {
   "cell_type": "code",
   "execution_count": 23,
   "metadata": {
    "colab": {
     "base_uri": "https://localhost:8080/",
     "height": 85
    },
    "colab_type": "code",
    "id": "H_EGZv1TL4S_",
    "outputId": "986e69ab-ccff-462b-ac77-2b681f918b6b"
   },
   "outputs": [
    {
     "name": "stdout",
     "output_type": "stream",
     "text": [
      "x_train.shape: (50000, 32, 32, 3)\n",
      "y_train.shape (50000,)\n",
      "number of classes: 10\n"
     ]
    }
   ],
   "source": [
    "# Load in the data\n",
    "cifar10 = tf.keras.datasets.cifar10\n",
    "\n",
    "# Split data into training and testing\n",
    "(x_train, y_train), (x_test, y_test) = cifar10.load_data()\n",
    "\n",
    "# Normalising the data between 0 and 1\n",
    "x_train, x_test = x_train / 255.0, x_test / 255.0\n",
    "y_train, y_test = y_train.flatten(), y_test.flatten()\n",
    "\n",
    "# Printing out the shapes \n",
    "print(\"x_train.shape:\", x_train.shape)\n",
    "print(\"y_train.shape\", y_train.shape)\n",
    "\n",
    "# number of classes\n",
    "K = len(set(y_train))\n",
    "print(\"number of classes:\", K)"
   ]
  },
  {
   "cell_type": "code",
   "execution_count": null,
   "metadata": {},
   "outputs": [],
   "source": []
  },
  {
   "cell_type": "code",
   "execution_count": null,
   "metadata": {},
   "outputs": [],
   "source": []
  },
  {
   "cell_type": "code",
   "execution_count": null,
   "metadata": {},
   "outputs": [],
   "source": []
  },
  {
   "cell_type": "code",
   "execution_count": null,
   "metadata": {
    "colab": {
     "base_uri": "https://localhost:8080/",
     "height": 34
    },
    "colab_type": "code",
    "id": "1Wr15bYpMwbB",
    "outputId": "e1859dc7-acbd-4ff1-f330-383b24475948"
   },
   "outputs": [],
   "source": []
  },
  {
   "cell_type": "code",
   "execution_count": 24,
   "metadata": {},
   "outputs": [],
   "source": [
    "# Instantiating our Sequential model.\n",
    "model = Sequential()\n",
    "\n",
    "\n",
    "model.add(Conv2D(32, (3, 3), activation='relu', padding='same'))\n",
    "model.add(BatchNormalization())\n",
    "model.add(Conv2D(32, (3, 3), activation='relu', padding='same'))\n",
    "model.add(BatchNormalization())\n",
    "model.add(MaxPool2D(pool_size=(2, 2)))\n",
    "\n",
    "model.add(Conv2D(64, (3, 3), activation='relu', padding='same'))\n",
    "model.add(BatchNormalization())\n",
    "model.add(Conv2D(64, (3, 3), activation='relu', padding='same'))\n",
    "model.add(BatchNormalization())\n",
    "model.add(MaxPool2D(pool_size=(2, 2)))\n",
    "\n",
    "model.add(Conv2D(128, (3, 3), activation='relu', padding='same'))\n",
    "model.add(BatchNormalization())\n",
    "model.add(Conv2D(128, (3, 3), activation='relu', padding='same'))\n",
    "model.add(BatchNormalization())\n",
    "model.add(MaxPool2D(pool_size=(2, 2)))\n",
    "\n",
    "model.add(Flatten())\n",
    "model.add(Dropout(0.3))\n",
    "model.add(Dense(1024, activation='relu'))\n",
    "model.add(Dropout(0.3))\n",
    "model.add(Dense(10, activation='softmax'))\n",
    "\n"
   ]
  },
  {
   "cell_type": "code",
   "execution_count": null,
   "metadata": {},
   "outputs": [],
   "source": []
  },
  {
   "cell_type": "code",
   "execution_count": null,
   "metadata": {},
   "outputs": [],
   "source": []
  },
  {
   "cell_type": "code",
   "execution_count": null,
   "metadata": {},
   "outputs": [],
   "source": []
  },
  {
   "cell_type": "code",
   "execution_count": 25,
   "metadata": {
    "colab": {},
    "colab_type": "code",
    "id": "Mmo66uQoMA1Q"
   },
   "outputs": [],
   "source": [
    "# Compile\n",
    "model.compile(optimizer='adam',\n",
    "              loss='sparse_categorical_crossentropy',\n",
    "              metrics=['accuracy'])\n",
    "\n",
    "# We are using earlystop to prevent model acc from deviating from val_acc above 3 epochs\n",
    "from tensorflow.keras.callbacks import EarlyStopping\n",
    "early_stop = EarlyStopping(monitor='val_accuracy', patience=3, mode='max', \n",
    "                           restore_best_weights=True )\n",
    "\n"
   ]
  },
  {
   "cell_type": "code",
   "execution_count": 26,
   "metadata": {
    "scrolled": true
   },
   "outputs": [
    {
     "name": "stdout",
     "output_type": "stream",
     "text": [
      "Train on 50000 samples, validate on 10000 samples\n",
      "Epoch 1/30\n",
      "50000/50000 [==============================] - 14s 283us/sample - loss: 1.3563 - accuracy: 0.5363 - val_loss: 1.0196 - val_accuracy: 0.6491\n",
      "Epoch 2/30\n",
      "50000/50000 [==============================] - 11s 224us/sample - loss: 0.8989 - accuracy: 0.6884 - val_loss: 0.7846 - val_accuracy: 0.7332\n",
      "Epoch 3/30\n",
      "50000/50000 [==============================] - 11s 218us/sample - loss: 0.7521 - accuracy: 0.7416 - val_loss: 0.7403 - val_accuracy: 0.7507\n",
      "Epoch 4/30\n",
      "50000/50000 [==============================] - 11s 223us/sample - loss: 0.6479 - accuracy: 0.7789 - val_loss: 0.7377 - val_accuracy: 0.7524\n",
      "Epoch 5/30\n",
      "50000/50000 [==============================] - 11s 223us/sample - loss: 0.5629 - accuracy: 0.8087 - val_loss: 0.6971 - val_accuracy: 0.7609\n",
      "Epoch 6/30\n",
      "50000/50000 [==============================] - 11s 226us/sample - loss: 0.4943 - accuracy: 0.8302 - val_loss: 0.5860 - val_accuracy: 0.8070\n",
      "Epoch 7/30\n",
      "50000/50000 [==============================] - 11s 229us/sample - loss: 0.4262 - accuracy: 0.8547 - val_loss: 0.5602 - val_accuracy: 0.8126\n",
      "Epoch 8/30\n",
      "50000/50000 [==============================] - 11s 225us/sample - loss: 0.3815 - accuracy: 0.8700 - val_loss: 0.5745 - val_accuracy: 0.8178\n",
      "Epoch 9/30\n",
      "50000/50000 [==============================] - 11s 219us/sample - loss: 0.3261 - accuracy: 0.8870 - val_loss: 0.5495 - val_accuracy: 0.8241\n",
      "Epoch 10/30\n",
      "50000/50000 [==============================] - 11s 223us/sample - loss: 0.2963 - accuracy: 0.8983 - val_loss: 0.5902 - val_accuracy: 0.8199\n",
      "Epoch 11/30\n",
      "50000/50000 [==============================] - 11s 217us/sample - loss: 0.2600 - accuracy: 0.9102 - val_loss: 0.5599 - val_accuracy: 0.8269\n",
      "Epoch 12/30\n",
      "50000/50000 [==============================] - 11s 217us/sample - loss: 0.2322 - accuracy: 0.9194 - val_loss: 0.5564 - val_accuracy: 0.8358\n",
      "Epoch 13/30\n",
      "50000/50000 [==============================] - 11s 225us/sample - loss: 0.2040 - accuracy: 0.9292 - val_loss: 0.5761 - val_accuracy: 0.8369\n",
      "Epoch 14/30\n",
      "50000/50000 [==============================] - 11s 228us/sample - loss: 0.1903 - accuracy: 0.9354 - val_loss: 0.5913 - val_accuracy: 0.8332\n",
      "Epoch 15/30\n",
      "50000/50000 [==============================] - 14s 275us/sample - loss: 0.1769 - accuracy: 0.9401 - val_loss: 0.6285 - val_accuracy: 0.8336\n",
      "Epoch 16/30\n",
      "50000/50000 [==============================] - 13s 256us/sample - loss: 0.1626 - accuracy: 0.9446 - val_loss: 0.6172 - val_accuracy: 0.8419\n",
      "Epoch 17/30\n",
      "50000/50000 [==============================] - 13s 260us/sample - loss: 0.1504 - accuracy: 0.9492 - val_loss: 0.5906 - val_accuracy: 0.8393\n",
      "Epoch 18/30\n",
      "50000/50000 [==============================] - 14s 272us/sample - loss: 0.1405 - accuracy: 0.9527 - val_loss: 0.6295 - val_accuracy: 0.8438\n",
      "Epoch 19/30\n",
      "50000/50000 [==============================] - 14s 276us/sample - loss: 0.1357 - accuracy: 0.9541 - val_loss: 0.6466 - val_accuracy: 0.8427\n",
      "Epoch 20/30\n",
      "50000/50000 [==============================] - 13s 266us/sample - loss: 0.1224 - accuracy: 0.9585 - val_loss: 0.6499 - val_accuracy: 0.8382\n",
      "Epoch 21/30\n",
      "50000/50000 [==============================] - 13s 260us/sample - loss: 0.1134 - accuracy: 0.9607 - val_loss: 0.6413 - val_accuracy: 0.8427\n"
     ]
    },
    {
     "data": {
      "text/plain": [
       "<tensorflow.python.keras.callbacks.History at 0x2ac4d6ed208>"
      ]
     },
     "execution_count": 26,
     "metadata": {},
     "output_type": "execute_result"
    }
   ],
   "source": [
    "# Fit without augmentation\n",
    "model.fit(x_train, y_train, validation_data=(x_test, y_test), callbacks=[early_stop], epochs=30)"
   ]
  },
  {
   "cell_type": "code",
   "execution_count": 27,
   "metadata": {
    "colab": {
     "base_uri": "https://localhost:8080/",
     "height": 341
    },
    "colab_type": "code",
    "id": "BBzAGEjOkvFz",
    "outputId": "9b4f642a-b49b-4354-de0c-03177e788807"
   },
   "outputs": [
    {
     "data": {
      "text/plain": [
       "<matplotlib.legend.Legend at 0x2ac5110c6c8>"
      ]
     },
     "execution_count": 27,
     "metadata": {},
     "output_type": "execute_result"
    },
    {
     "data": {
      "image/png": "[encoded data removed]",
      "text/plain": [
       "<Figure size 432x288 with 1 Axes>"
      ]
     },
     "metadata": {
      "needs_background": "light"
     },
     "output_type": "display_data"
    }
   ],
   "source": [
    "# Plot loss per iteration\n",
    "# Model shows clear signs of overfitting\n",
    "plt.plot(model.history.history['loss'], label='loss')\n",
    "plt.plot(model.history.history['val_loss'], label='val_loss')\n",
    "plt.legend()"
   ]
  },
  {
   "cell_type": "code",
   "execution_count": 28,
   "metadata": {},
   "outputs": [
    {
     "data": {
      "text/plain": [
       "<matplotlib.legend.Legend at 0x2ac5113fd48>"
      ]
     },
     "execution_count": 28,
     "metadata": {},
     "output_type": "execute_result"
    },
    {
     "data": {
      "image/png": "[encoded data removed]",
      "text/plain": [
       "<Figure size 432x288 with 1 Axes>"
      ]
     },
     "metadata": {
      "needs_background": "light"
     },
     "output_type": "display_data"
    }
   ],
   "source": [
    "# Plot accuracy per iteration\n",
    "plt.plot(model.history.history['accuracy'], label='acc')\n",
    "plt.plot(model.history.history['val_accuracy'], label='val_acc')\n",
    "plt.legend()"
   ]
  },
  {
   "cell_type": "code",
   "execution_count": 29,
   "metadata": {},
   "outputs": [],
   "source": [
    "# Using ReducedLrOnPlateau to change learning rate if val_loss doesnt decrease after 5 epochs\n",
    "from tensorflow.keras.callbacks import ReduceLROnPlateau\n",
    "reduce_lr = ReduceLROnPlateau(monitor='val_loss', factor=0.2,\n",
    "                              patience=5, min_lr=0.001)"
   ]
  },
  {
   "cell_type": "code",
   "execution_count": 30,
   "metadata": {
    "colab": {
     "base_uri": "https://localhost:8080/",
     "height": 1000
    },
    "colab_type": "code",
    "id": "af61hXUrYjsZ",
    "outputId": "af32c5ff-8e21-4ea7-a34b-f6072bb7f255"
   },
   "outputs": [
    {
     "name": "stdout",
     "output_type": "stream",
     "text": [
      "WARNING:tensorflow:sample_weight modes were coerced from\n",
      "  ...\n",
      "    to  \n",
      "  ['...']\n",
      "Train for 1562 steps, validate on 10000 samples\n",
      "Epoch 1/30\n",
      "1562/1562 [==============================] - 26s 16ms/step - loss: 0.5847 - accuracy: 0.8096 - val_loss: 0.4847 - val_accuracy: 0.8369\n",
      "Epoch 2/30\n",
      "1562/1562 [==============================] - 22s 14ms/step - loss: 0.4886 - accuracy: 0.8371 - val_loss: 0.4847 - val_accuracy: 0.8449\n",
      "Epoch 3/30\n",
      "1562/1562 [==============================] - 20s 13ms/step - loss: 0.4489 - accuracy: 0.8492 - val_loss: 0.5196 - val_accuracy: 0.8347\n",
      "Epoch 4/30\n",
      "1562/1562 [==============================] - 19s 12ms/step - loss: 0.4237 - accuracy: 0.8563 - val_loss: 0.5008 - val_accuracy: 0.8367\n",
      "Epoch 5/30\n",
      "1562/1562 [==============================] - 20s 12ms/step - loss: 0.4122 - accuracy: 0.8589 - val_loss: 0.4543 - val_accuracy: 0.8477\n",
      "Epoch 6/30\n",
      "1562/1562 [==============================] - 19s 12ms/step - loss: 0.4005 - accuracy: 0.8636 - val_loss: 0.4642 - val_accuracy: 0.8454\n",
      "Epoch 7/30\n",
      "1562/1562 [==============================] - 20s 13ms/step - loss: 0.3852 - accuracy: 0.8688 - val_loss: 0.4926 - val_accuracy: 0.8427\n",
      "Epoch 8/30\n",
      "1562/1562 [==============================] - 21s 14ms/step - loss: 0.3703 - accuracy: 0.8721 - val_loss: 0.4982 - val_accuracy: 0.8351\n",
      "Epoch 9/30\n",
      "1562/1562 [==============================] - 21s 14ms/step - loss: 0.3666 - accuracy: 0.8745 - val_loss: 0.4488 - val_accuracy: 0.8522\n",
      "Epoch 10/30\n",
      "1562/1562 [==============================] - 21s 14ms/step - loss: 0.3424 - accuracy: 0.8816 - val_loss: 0.4713 - val_accuracy: 0.8472\n",
      "Epoch 11/30\n",
      "1562/1562 [==============================] - 22s 14ms/step - loss: 0.3440 - accuracy: 0.8828 - val_loss: 0.4632 - val_accuracy: 0.8510\n",
      "Epoch 12/30\n",
      "1562/1562 [==============================] - 21s 14ms/step - loss: 0.3344 - accuracy: 0.8866 - val_loss: 0.4502 - val_accuracy: 0.8603\n",
      "Epoch 13/30\n",
      "1562/1562 [==============================] - 26s 17ms/step - loss: 0.3226 - accuracy: 0.8886 - val_loss: 0.4252 - val_accuracy: 0.8573\n",
      "Epoch 14/30\n",
      "1562/1562 [==============================] - 28s 18ms/step - loss: 0.3195 - accuracy: 0.8919 - val_loss: 0.4175 - val_accuracy: 0.8646\n",
      "Epoch 15/30\n",
      "1562/1562 [==============================] - 27s 17ms/step - loss: 0.3085 - accuracy: 0.8939 - val_loss: 0.3909 - val_accuracy: 0.8723\n",
      "Epoch 16/30\n",
      "1562/1562 [==============================] - 27s 17ms/step - loss: 0.3048 - accuracy: 0.8961 - val_loss: 0.4051 - val_accuracy: 0.8655\n",
      "Epoch 17/30\n",
      "1562/1562 [==============================] - 29s 18ms/step - loss: 0.2975 - accuracy: 0.8979 - val_loss: 0.3862 - val_accuracy: 0.8720\n",
      "Epoch 18/30\n",
      "1562/1562 [==============================] - 31s 20ms/step - loss: 0.2944 - accuracy: 0.8983 - val_loss: 0.4824 - val_accuracy: 0.8525\n",
      "Epoch 19/30\n",
      "1562/1562 [==============================] - 24s 16ms/step - loss: 0.2855 - accuracy: 0.9034 - val_loss: 0.3994 - val_accuracy: 0.8716\n",
      "Epoch 20/30\n",
      "1562/1562 [==============================] - 22s 14ms/step - loss: 0.2837 - accuracy: 0.9019 - val_loss: 0.4358 - val_accuracy: 0.8661\n",
      "Epoch 21/30\n",
      "1562/1562 [==============================] - 27s 17ms/step - loss: 0.2779 - accuracy: 0.9041 - val_loss: 0.3997 - val_accuracy: 0.8697\n",
      "Epoch 22/30\n",
      "1562/1562 [==============================] - 27s 17ms/step - loss: 0.2721 - accuracy: 0.9064 - val_loss: 0.4047 - val_accuracy: 0.8750\n",
      "Epoch 23/30\n",
      "1562/1562 [==============================] - 22s 14ms/step - loss: 0.2662 - accuracy: 0.9087 - val_loss: 0.3701 - val_accuracy: 0.8796\n",
      "Epoch 24/30\n",
      "1562/1562 [==============================] - 21s 14ms/step - loss: 0.2596 - accuracy: 0.9097 - val_loss: 0.3943 - val_accuracy: 0.8773\n",
      "Epoch 25/30\n",
      "1562/1562 [==============================] - 22s 14ms/step - loss: 0.2584 - accuracy: 0.9105 - val_loss: 0.4004 - val_accuracy: 0.8769\n",
      "Epoch 26/30\n",
      "1562/1562 [==============================] - 26s 17ms/step - loss: 0.2505 - accuracy: 0.9159 - val_loss: 0.4326 - val_accuracy: 0.8748\n",
      "Epoch 27/30\n",
      "1562/1562 [==============================] - 29s 18ms/step - loss: 0.2522 - accuracy: 0.9128 - val_loss: 0.4166 - val_accuracy: 0.8708\n",
      "Epoch 28/30\n",
      "1562/1562 [==============================] - 28s 18ms/step - loss: 0.2425 - accuracy: 0.9172 - val_loss: 0.3988 - val_accuracy: 0.8714\n",
      "Epoch 29/30\n",
      "1562/1562 [==============================] - 31s 20ms/step - loss: 0.2444 - accuracy: 0.9175 - val_loss: 0.3747 - val_accuracy: 0.8800\n",
      "Epoch 30/30\n",
      "1562/1562 [==============================] - 32s 20ms/step - loss: 0.2433 - accuracy: 0.9160 - val_loss: 0.4035 - val_accuracy: 0.8722\n"
     ]
    },
    {
     "data": {
      "text/plain": [
       "<tensorflow.python.keras.callbacks.History at 0x2ac5124b548>"
      ]
     },
     "execution_count": 30,
     "metadata": {},
     "output_type": "execute_result"
    }
   ],
   "source": [
    "# Fit with data augmentation\n",
    "batch_size = 32\n",
    "data_generator = tf.keras.preprocessing.image.ImageDataGenerator(width_shift_range=0.1, height_shift_range=0.1, horizontal_flip=True)\n",
    "train_generator = data_generator.flow(x_train, y_train, batch_size)\n",
    "steps_per_epoch = x_train.shape[0] // batch_size\n",
    "model.fit(train_generator, validation_data=(x_test, y_test),callbacks=[reduce_lr], steps_per_epoch=steps_per_epoch, epochs=30,)"
   ]
  },
  {
   "cell_type": "code",
   "execution_count": null,
   "metadata": {},
   "outputs": [],
   "source": []
  },
  {
   "cell_type": "code",
   "execution_count": 31,
   "metadata": {
    "colab": {
     "base_uri": "https://localhost:8080/",
     "height": 282
    },
    "colab_type": "code",
    "id": "ML37hw4iOkBm",
    "outputId": "f7c81b80-422f-4bb8-f523-5bec1569c5c7"
   },
   "outputs": [
    {
     "data": {
      "text/plain": [
       "<matplotlib.legend.Legend at 0x2ac3ed84a88>"
      ]
     },
     "execution_count": 31,
     "metadata": {},
     "output_type": "execute_result"
    },
    {
     "data": {
      "image/png": "[encoded data removed]",
      "text/plain": [
       "<Figure size 432x288 with 1 Axes>"
      ]
     },
     "metadata": {
      "needs_background": "light"
     },
     "output_type": "display_data"
    }
   ],
   "source": [
    "# Plot loss per iteration\n",
    "# Although the val_loss is unstable, it oscillates between a small interval.\n",
    "plt.plot(model.history.history['loss'], label='loss')\n",
    "plt.plot(model.history.history['val_loss'], label='val_loss')\n",
    "plt.legend()"
   ]
  },
  {
   "cell_type": "code",
   "execution_count": null,
   "metadata": {},
   "outputs": [],
   "source": []
  },
  {
   "cell_type": "code",
   "execution_count": 32,
   "metadata": {
    "colab": {
     "base_uri": "https://localhost:8080/",
     "height": 284
    },
    "colab_type": "code",
    "id": "pemstSDIOpIb",
    "outputId": "d156a6a8-db85-4a75-9dff-1219a3abb23c"
   },
   "outputs": [
    {
     "data": {
      "text/plain": [
       "<matplotlib.legend.Legend at 0x2ac3edd2ac8>"
      ]
     },
     "execution_count": 32,
     "metadata": {},
     "output_type": "execute_result"
    },
    {
     "data": {
      "image/png": "[encoded data removed]",
      "text/plain": [
       "<Figure size 432x288 with 1 Axes>"
      ]
     },
     "metadata": {
      "needs_background": "light"
     },
     "output_type": "display_data"
    }
   ],
   "source": [
    "# Plot accuracy per iteration\n",
    "# Val_acc follows a similiar trend.\n",
    "plt.plot(model.history.history['accuracy'], label='acc')\n",
    "plt.plot(model.history.history['val_accuracy'], label='val_acc')\n",
    "plt.legend()"
   ]
  },
  {
   "cell_type": "code",
   "execution_count": 33,
   "metadata": {},
   "outputs": [],
   "source": [
    "# Plot confusion matrix\n",
    "from sklearn.metrics import confusion_matrix,classification_report\n"
   ]
  },
  {
   "cell_type": "code",
   "execution_count": 34,
   "metadata": {
    "colab": {
     "base_uri": "https://localhost:8080/",
     "height": 498
    },
    "colab_type": "code",
    "id": "2LJTd4OiO6kL",
    "outputId": "f54d53b3-ea65-44bc-a887-221afe973b5c"
   },
   "outputs": [
    {
     "data": {
      "text/plain": [
       "<matplotlib.axes._subplots.AxesSubplot at 0x2ac3ef78a48>"
      ]
     },
     "execution_count": 34,
     "metadata": {},
     "output_type": "execute_result"
    },
    {
     "data": {
      "image/png": "[encoded data removed]",
      "text/plain": [
       "<Figure size 720x432 with 2 Axes>"
      ]
     },
     "metadata": {
      "needs_background": "light"
     },
     "output_type": "display_data"
    }
   ],
   "source": [
    "labels_data = ['airplane','automobile','bird','cat','deer','dog','frog','horse','ship','truck']\n",
    "\n",
    "p_test = model.predict(x_test).argmax(axis=1)\n",
    "plt.figure(figsize=(10,6))\n",
    "sns.heatmap(confusion_matrix(y_test,p_test),annot=True)"
   ]
  },
  {
   "cell_type": "code",
   "execution_count": 35,
   "metadata": {},
   "outputs": [
    {
     "name": "stdout",
     "output_type": "stream",
     "text": [
      "              precision    recall  f1-score   support\n",
      "\n",
      "           0       0.84      0.92      0.87      1000\n",
      "           1       0.90      0.97      0.93      1000\n",
      "           2       0.82      0.84      0.83      1000\n",
      "           3       0.73      0.79      0.76      1000\n",
      "           4       0.87      0.86      0.86      1000\n",
      "           5       0.88      0.76      0.82      1000\n",
      "           6       0.93      0.87      0.90      1000\n",
      "           7       0.96      0.88      0.92      1000\n",
      "           8       0.93      0.93      0.93      1000\n",
      "           9       0.90      0.92      0.91      1000\n",
      "\n",
      "    accuracy                           0.87     10000\n",
      "   macro avg       0.87      0.87      0.87     10000\n",
      "weighted avg       0.87      0.87      0.87     10000\n",
      "\n"
     ]
    }
   ],
   "source": [
    "print(classification_report(y_test,p_test))"
   ]
  },
  {
   "cell_type": "code",
   "execution_count": 36,
   "metadata": {},
   "outputs": [],
   "source": [
    "# label mapping\n",
    "labels = '''airplane\n",
    "automobile\n",
    "bird\n",
    "cat\n",
    "deer\n",
    "dog\n",
    "frog\n",
    "horse\n",
    "ship\n",
    "truck'''.split()"
   ]
  },
  {
   "cell_type": "code",
   "execution_count": 37,
   "metadata": {
    "colab": {
     "base_uri": "https://localhost:8080/",
     "height": 281
    },
    "colab_type": "code",
    "id": "jjmW4STFO-Ny",
    "outputId": "65f473d7-37df-4a24-9489-696c18fad77c"
   },
   "outputs": [
    {
     "data": {
      "image/png": "[encoded data removed]",
      "text/plain": [
       "<Figure size 432x288 with 1 Axes>"
      ]
     },
     "metadata": {
      "needs_background": "light"
     },
     "output_type": "display_data"
    }
   ],
   "source": [
    "# Show some misclassified examples\n",
    "misclassified_idx = np.where(p_test != y_test)[0]\n",
    "i = np.random.choice(misclassified_idx)\n",
    "plt.imshow(x_test[i], cmap='gray')\n",
    "plt.title(\"True label: %s Predicted: %s\" % (labels[y_test[i]], labels[p_test[i]]));"
   ]
  },
  {
   "cell_type": "code",
   "execution_count": 38,
   "metadata": {},
   "outputs": [
    {
     "data": {
      "image/png": "[encoded data removed]",
      "text/plain": [
       "<Figure size 432x288 with 1 Axes>"
      ]
     },
     "metadata": {
      "needs_background": "light"
     },
     "output_type": "display_data"
    }
   ],
   "source": [
    "# Correctly classified examples\n",
    "classified_idx = np.where(p_test == y_test)[0]\n",
    "i = np.random.choice(classified_idx)\n",
    "plt.imshow(x_test[i], cmap='gray')\n",
    "plt.title(\"True label: %s Predicted: %s\" % (labels[y_test[i]], labels[p_test[i]]));"
   ]
  },
  {
   "cell_type": "code",
   "execution_count": 39,
   "metadata": {},
   "outputs": [
    {
     "data": {
      "image/png": "[encoded data removed]",
      "text/plain": [
       "<Figure size 432x288 with 1 Axes>"
      ]
     },
     "metadata": {
      "needs_background": "light"
     },
     "output_type": "display_data"
    }
   ],
   "source": [
    "from tensorflow.keras.preprocessing import image\n",
    "from tensorflow.keras.preprocessing.image import img_to_array, load_img\n",
    "\n",
    "# predicting images\n",
    "path=r'C:\\Users\\karth\\Documents\\Deep Learning\\airplane.jpg'\n",
    "img=image.load_img(path, target_size=(32,32))\n",
    "x=image.img_to_array(img)\n",
    "x=np.expand_dims(x, axis=0)\n",
    "images = np.vstack([x])\n",
    "classes = model.predict_classes(images)\n",
    "classes\n",
    "# Correctly classified examples\n",
    "i = classes[0]\n",
    "plt.imshow(img, cmap='gray')\n",
    "plt.title(\"Predicted: %s\" % (labels[i]));\n",
    "\n"
   ]
  },
  {
   "cell_type": "code",
   "execution_count": null,
   "metadata": {},
   "outputs": [],
   "source": []
  },
  {
   "cell_type": "code",
   "execution_count": 40,
   "metadata": {},
   "outputs": [
    {
     "data": {
      "image/png": "[encoded data removed]",
      "text/plain": [
       "<Figure size 432x288 with 1 Axes>"
      ]
     },
     "metadata": {
      "needs_background": "light"
     },
     "output_type": "display_data"
    }
   ],
   "source": [
    "# predicting images\n",
    "path=r'C:\\Users\\karth\\Documents\\Deep Learning\\Dog.jpg'\n",
    "img=image.load_img(path, target_size=(32,32))\n",
    "x=image.img_to_array(img)\n",
    "x=np.expand_dims(x, axis=0)\n",
    "images = np.vstack([x])\n",
    "classes = model.predict_classes(images)\n",
    "classes\n",
    "# Correctly classified examples\n",
    "i = classes[0]\n",
    "plt.imshow(img, cmap='gray')\n",
    "plt.title(\"Predicted: %s\" % (labels[i]));"
   ]
  },
  {
   "cell_type": "raw",
   "metadata": {},
   "source": []
  },
  {
   "cell_type": "code",
   "execution_count": 41,
   "metadata": {},
   "outputs": [
    {
     "name": "stdout",
     "output_type": "stream",
     "text": [
      "Model: \"sequential_1\"\n",
      "_________________________________________________________________\n",
      "Layer (type)                 Output Shape              Param #   \n",
      "=================================================================\n",
      "conv2d_6 (Conv2D)            multiple                  896       \n",
      "_________________________________________________________________\n",
      "batch_normalization_6 (Batch multiple                  128       \n",
      "_________________________________________________________________\n",
      "conv2d_7 (Conv2D)            multiple                  9248      \n",
      "_________________________________________________________________\n",
      "batch_normalization_7 (Batch multiple                  128       \n",
      "_________________________________________________________________\n",
      "max_pooling2d_3 (MaxPooling2 multiple                  0         \n",
      "_________________________________________________________________\n",
      "conv2d_8 (Conv2D)            multiple                  18496     \n",
      "_________________________________________________________________\n",
      "batch_normalization_8 (Batch multiple                  256       \n",
      "_________________________________________________________________\n",
      "conv2d_9 (Conv2D)            multiple                  36928     \n",
      "_________________________________________________________________\n",
      "batch_normalization_9 (Batch multiple                  256       \n",
      "_________________________________________________________________\n",
      "max_pooling2d_4 (MaxPooling2 multiple                  0         \n",
      "_________________________________________________________________\n",
      "conv2d_10 (Conv2D)           multiple                  73856     \n",
      "_________________________________________________________________\n",
      "batch_normalization_10 (Batc multiple                  512       \n",
      "_________________________________________________________________\n",
      "conv2d_11 (Conv2D)           multiple                  147584    \n",
      "_________________________________________________________________\n",
      "batch_normalization_11 (Batc multiple                  512       \n",
      "_________________________________________________________________\n",
      "max_pooling2d_5 (MaxPooling2 multiple                  0         \n",
      "_________________________________________________________________\n",
      "flatten_1 (Flatten)          multiple                  0         \n",
      "_________________________________________________________________\n",
      "dropout_1 (Dropout)          multiple                  0         \n",
      "_________________________________________________________________\n",
      "dense_2 (Dense)              multiple                  2098176   \n",
      "_________________________________________________________________\n",
      "dropout_2 (Dropout)          multiple                  0         \n",
      "_________________________________________________________________\n",
      "dense_3 (Dense)              multiple                  10250     \n",
      "=================================================================\n",
      "Total params: 2,397,226\n",
      "Trainable params: 2,396,330\n",
      "Non-trainable params: 896\n",
      "_________________________________________________________________\n"
     ]
    }
   ],
   "source": [
    "# Now that the model is so large, it's useful to summarize it\n",
    "model.summary()"
   ]
  },
  {
   "cell_type": "code",
   "execution_count": null,
   "metadata": {},
   "outputs": [],
   "source": []
  },
  {
   "cell_type": "code",
   "execution_count": null,
   "metadata": {},
   "outputs": [],
   "source": []
  },
  {
   "cell_type": "code",
   "execution_count": null,
   "metadata": {},
   "outputs": [],
   "source": []
  },
  {
   "cell_type": "code",
   "execution_count": null,
   "metadata": {},
   "outputs": [],
   "source": []
  },
  {
   "cell_type": "code",
   "execution_count": null,
   "metadata": {},
   "outputs": [],
   "source": []
  },
  {
   "cell_type": "code",
   "execution_count": null,
   "metadata": {},
   "outputs": [],
   "source": []
  },
  {
   "cell_type": "code",
   "execution_count": null,
   "metadata": {},
   "outputs": [],
   "source": []
  },
  {
   "cell_type": "code",
   "execution_count": null,
   "metadata": {},
   "outputs": [],
   "source": []
  },
  {
   "cell_type": "code",
   "execution_count": null,
   "metadata": {},
   "outputs": [],
   "source": []
  },
  {
   "cell_type": "code",
   "execution_count": null,
   "metadata": {
    "colab": {
     "base_uri": "https://localhost:8080/",
     "height": 867
    },
    "colab_type": "code",
    "id": "qNw6PmshWjoZ",
    "outputId": "2c6b2193-df37-4083-8f74-a22733ec65f3"
   },
   "outputs": [],
   "source": []
  },
  {
   "cell_type": "code",
   "execution_count": 42,
   "metadata": {},
   "outputs": [],
   "source": [
    "# model.save(r'C:\\Users\\karth\\Documents\\Deep Learning\\project_ReducedLr')"
   ]
  },
  {
   "cell_type": "code",
   "execution_count": null,
   "metadata": {},
   "outputs": [],
   "source": []
  },
  {
   "cell_type": "code",
   "execution_count": null,
   "metadata": {},
   "outputs": [],
   "source": []
  },
  {
   "cell_type": "code",
   "execution_count": null,
   "metadata": {},
   "outputs": [],
   "source": []
  },
  {
   "cell_type": "code",
   "execution_count": null,
   "metadata": {},
   "outputs": [],
   "source": []
  },
  {
   "cell_type": "code",
   "execution_count": null,
   "metadata": {},
   "outputs": [],
   "source": []
  },
  {
   "cell_type": "code",
   "execution_count": null,
   "metadata": {},
   "outputs": [],
   "source": []
  },
  {
   "cell_type": "code",
   "execution_count": null,
   "metadata": {},
   "outputs": [],
   "source": []
  },
  {
   "cell_type": "code",
   "execution_count": null,
   "metadata": {},
   "outputs": [],
   "source": []
  },
  {
   "cell_type": "code",
   "execution_count": null,
   "metadata": {},
   "outputs": [],
   "source": []
  },
  {
   "cell_type": "code",
   "execution_count": null,
   "metadata": {},
   "outputs": [],
   "source": []
  },
  {
   "cell_type": "code",
   "execution_count": null,
   "metadata": {},
   "outputs": [],
   "source": []
  },
  {
   "cell_type": "code",
   "execution_count": null,
   "metadata": {},
   "outputs": [],
   "source": []
  },
  {
   "cell_type": "code",
   "execution_count": null,
   "metadata": {},
   "outputs": [],
   "source": []
  },
  {
   "cell_type": "code",
   "execution_count": null,
   "metadata": {},
   "outputs": [],
   "source": []
  }
 ],
 "metadata": {
  "accelerator": "GPU",
  "colab": {
   "collapsed_sections": [],
   "name": "TF2.0 CIFAR Improved.ipynb",
   "provenance": []
  },
  "kernelspec": {
   "display_name": "Python 3",
   "language": "python",
   "name": "python3"
  },
  "language_info": {
   "codemirror_mode": {
    "name": "ipython",
    "version": 3
   },
   "file_extension": ".py",
   "mimetype": "text/x-python",
   "name": "python",
   "nbconvert_exporter": "python",
   "pygments_lexer": "ipython3",
   "version": "3.7.7"
  }
 },
 "nbformat": 4,
 "nbformat_minor": 1
}
